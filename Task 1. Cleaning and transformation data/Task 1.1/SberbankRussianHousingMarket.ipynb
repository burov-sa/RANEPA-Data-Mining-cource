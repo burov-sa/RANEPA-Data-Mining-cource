{
 "cells": [
  {
   "cell_type": "markdown",
   "id": "e3b77468",
   "metadata": {},
   "source": [
    "Пример сделан на основе блога https://proglib.io/p/moem-dataset-rukovodstvo-po-ochistke-dannyh-v-python-2020-03-27"
   ]
  },
  {
   "cell_type": "markdown",
   "id": "798f810b",
   "metadata": {},
   "source": [
    "### 1. Загрузка данных"
   ]
  },
  {
   "cell_type": "code",
   "execution_count": null,
   "id": "9181609e",
   "metadata": {},
   "outputs": [],
   "source": [
    "# импорт библиотек\n",
    "import pandas as pd\n",
    "import numpy as np\n",
    "import seaborn as sns\n",
    "\n",
    "import matplotlib.pyplot as plt\n",
    "import matplotlib.mlab as mlab\n",
    "import matplotlib\n",
    "plt.style.use('ggplot')\n",
    "from matplotlib.pyplot import figure\n",
    "\n",
    "%matplotlib inline\n",
    "matplotlib.rcParams['figure.figsize'] = (12,8)\n",
    "pd.options.mode.chained_assignment = None #отключаем предупреждения для нагляднсоти вывода\n",
    "# чтение данных\n",
    "df = pd.read_csv('train.csv')"
   ]
  },
  {
   "cell_type": "markdown",
   "id": "7a0a37d3",
   "metadata": {},
   "source": [
    "### 2. Разведочный анализ загруженных данных "
   ]
  },
  {
   "cell_type": "code",
   "execution_count": null,
   "id": "882c7412",
   "metadata": {},
   "outputs": [],
   "source": [
    "# размеры массивов и типы данных\n",
    "print(df.shape)\n",
    "print(df.dtypes)"
   ]
  },
  {
   "cell_type": "code",
   "execution_count": null,
   "id": "87dd2b4c",
   "metadata": {},
   "outputs": [],
   "source": [
    "# числовые данные\n",
    "df_numeric = df.select_dtypes(include=[np.number])\n",
    "numeric_cols = df_numeric.columns.values\n",
    "print(numeric_cols)"
   ]
  },
  {
   "cell_type": "code",
   "execution_count": null,
   "id": "fa67949f",
   "metadata": {},
   "outputs": [],
   "source": [
    "# категорийные данные\n",
    "df_non_numeric = df.select_dtypes(exclude=[np.number])\n",
    "non_numeric_cols = df_non_numeric.columns.values\n",
    "print(non_numeric_cols)"
   ]
  },
  {
   "cell_type": "markdown",
   "id": "d8f61fa6",
   "metadata": {},
   "source": [
    "### 2.1 Поиск пропущенных значений"
   ]
  },
  {
   "cell_type": "code",
   "execution_count": null,
   "id": "4e55d18a",
   "metadata": {},
   "outputs": [],
   "source": [
    "df.count()"
   ]
  },
  {
   "cell_type": "code",
   "execution_count": null,
   "id": "c37436b9",
   "metadata": {},
   "outputs": [],
   "source": [
    "df.isna().sum()"
   ]
  },
  {
   "cell_type": "markdown",
   "id": "b733a7bd",
   "metadata": {},
   "source": [
    "### Тепловая карта с пропущенными значениями"
   ]
  },
  {
   "cell_type": "code",
   "execution_count": null,
   "id": "785e2085",
   "metadata": {},
   "outputs": [],
   "source": [
    "cols = df.columns[:30] # первые 30 колонок\n",
    "# определяем цвета \n",
    "# желтый - пропущенные данные, синий - не пропущенные\n",
    "colours = ['#000099', '#ffff00'] \n",
    "sns.heatmap(df[cols].isnull(), cmap=sns.color_palette(colours))"
   ]
  },
  {
   "cell_type": "markdown",
   "id": "4c8fa540",
   "metadata": {},
   "source": [
    "### Пропущенные данные в процентах"
   ]
  },
  {
   "cell_type": "code",
   "execution_count": null,
   "id": "d4e1f929",
   "metadata": {},
   "outputs": [],
   "source": [
    "for col in df.columns:\n",
    "    pct_missing = np.mean(df[col].isnull())\n",
    "    print('{} - {}%'.format(col, round(pct_missing*100)))"
   ]
  },
  {
   "cell_type": "code",
   "execution_count": null,
   "id": "d9715ebb",
   "metadata": {},
   "outputs": [],
   "source": [
    "# Ещё одна функция проверки пропущенных значений\n",
    "def missing_values_table(df):\n",
    "        # Общее количество отсутствующих значений\n",
    "        mis_val = df.isnull().sum()\n",
    "        \n",
    "        # Процент пропущенных значений\n",
    "        mis_val_percent = 100 * df.isnull().sum() / len(df)\n",
    "        \n",
    "        # Составление таблицы с результатами\n",
    "        mis_val_table = pd.concat([mis_val, mis_val_percent], axis=1)\n",
    "        \n",
    "        # Перименование столбцов\n",
    "        mis_val_table_ren_columns = mis_val_table.rename(\n",
    "        columns = {0 : 'Missing Values', 1 : '% of Total Values'})\n",
    "        \n",
    "        # Сортировка таблицы по проценту отсутствующих значений по убыванию\n",
    "        mis_val_table_ren_columns = mis_val_table_ren_columns[\n",
    "            mis_val_table_ren_columns.iloc[:,1] != 0].sort_values(\n",
    "        '% of Total Values', ascending=False).round(1)\n",
    "        \n",
    "        # Вывод результатов\n",
    "        print (\"Your selected dataframe has \" + str(df.shape[1]) + \" columns.\\n\"      \n",
    "            \"There are \" + str(mis_val_table_ren_columns.shape[0]) +\n",
    "              \" columns that have missing values.\")\n",
    "        return mis_val_table_ren_columns\n",
    "missing_values_table(df)"
   ]
  },
  {
   "cell_type": "markdown",
   "id": "b7ba312e",
   "metadata": {},
   "source": [
    "### Гистограмма пропущенных значений"
   ]
  },
  {
   "cell_type": "code",
   "execution_count": null,
   "id": "c60d55f4",
   "metadata": {},
   "outputs": [],
   "source": [
    "for col in df.columns:\n",
    "    missing = df[col].isnull()\n",
    "    num_missing = np.sum(missing)\n",
    "    \n",
    "    if num_missing > 0:  \n",
    "        print('created missing indicator for: {}'.format(col))\n",
    "        df['{}_ismissing'.format(col)] = missing\n",
    "\n",
    "\n",
    "# затем на основе индикатора строим гистограмму\n",
    "ismissing_cols = [col for col in df.columns if 'ismissing' in col]\n",
    "df['num_missing'] = df[ismissing_cols].sum(axis=1)\n",
    "\n",
    "df['num_missing'].value_counts().reset_index().sort_values(by='index').plot.bar(x='index', y='num_missing')"
   ]
  },
  {
   "cell_type": "code",
   "execution_count": null,
   "id": "e71a2e99",
   "metadata": {},
   "outputs": [],
   "source": [
    "df"
   ]
  },
  {
   "cell_type": "markdown",
   "id": "cd464373",
   "metadata": {},
   "source": [
    "### 2.2 Борьба с пропущенными значениями"
   ]
  },
  {
   "cell_type": "markdown",
   "id": "78968d44",
   "metadata": {},
   "source": [
    "#### Способ 1. Удаление всех строк с пропущенными значениями"
   ]
  },
  {
   "cell_type": "code",
   "execution_count": null,
   "id": "089d084b",
   "metadata": {},
   "outputs": [],
   "source": [
    "# отбрасываем строки с большим количеством пропусков\n",
    "ind_missing = df[df['num_missing'] > 35].index\n",
    "df_less_missing_rows = df.drop(ind_missing, axis=0)"
   ]
  },
  {
   "cell_type": "markdown",
   "id": "ba91afc8",
   "metadata": {},
   "source": [
    "#### Способ 2. Удаление всех признаков, у которых много пропусков в строках"
   ]
  },
  {
   "cell_type": "code",
   "execution_count": null,
   "id": "c9243401",
   "metadata": {},
   "outputs": [],
   "source": [
    "# у признака hospital_beds_raion имеет высокий процент недостающих значений – 47%. \n",
    "# отказываемся от этого признака\n",
    "cols_to_drop = ['hospital_beds_raion']\n",
    "df_less_hos_beds_raion = df.drop(cols_to_drop, axis=1)"
   ]
  },
  {
   "cell_type": "markdown",
   "id": "3e575674",
   "metadata": {},
   "source": [
    "#### Способ 3. Самостоятельное заполнение пропусков (нулями, средним, модой, медианой или специальным значеним)"
   ]
  },
  {
   "cell_type": "code",
   "execution_count": null,
   "id": "0ac8e5cd",
   "metadata": {},
   "outputs": [],
   "source": [
    "#пропущенные значения признака life_sq заменяем на медианное значение\n",
    "med = df['life_sq'].median()\n",
    "print(med)\n",
    "df['life_sq'] = df['life_sq'].fillna(med)"
   ]
  },
  {
   "cell_type": "code",
   "execution_count": null,
   "id": "9c5a990e",
   "metadata": {},
   "outputs": [],
   "source": [
    "#применяем для всех числовых данных\n",
    "df_numeric = df.select_dtypes(include=[np.number])\n",
    "numeric_cols = df_numeric.columns.values\n",
    "\n",
    "for col in numeric_cols:\n",
    "    missing = df[col].isnull()\n",
    "    num_missing = np.sum(missing)\n",
    "    \n",
    "    if num_missing > 0:  # only do the imputation for the columns that have missing values.\n",
    "        print('imputing missing values for: {}'.format(col))\n",
    "        df['{}_ismissing'.format(col)] = missing\n",
    "        med = df[col].median()\n",
    "        df[col] = df[col].fillna(med)"
   ]
  },
  {
   "cell_type": "code",
   "execution_count": null,
   "id": "7f161453",
   "metadata": {},
   "outputs": [],
   "source": [
    "#применяем для всех категориальных данных\n",
    "df_non_numeric = df.select_dtypes(exclude=[np.number])\n",
    "non_numeric_cols = df_non_numeric.columns.values\n",
    "\n",
    "for col in non_numeric_cols:\n",
    "    missing = df[col].isnull()\n",
    "    num_missing = np.sum(missing)\n",
    "    \n",
    "    if num_missing > 0:  # only do the imputation for the columns that have missing values.\n",
    "        print('imputing missing values for: {}'.format(col))\n",
    "        df['{}_ismissing'.format(col)] = missing\n",
    "        \n",
    "        top = df[col].describe()['top'] # impute with the most frequent value.\n",
    "        df[col] = df[col].fillna(top)"
   ]
  },
  {
   "cell_type": "code",
   "execution_count": null,
   "id": "654df154",
   "metadata": {},
   "outputs": [],
   "source": [
    "# А можем заменить на какие-то свои значения\n",
    "# категориальные признаки\n",
    "df['sub_area'] = df['sub_area'].fillna('_MISSING_')\n",
    "# численные признаки\n",
    "df['life_sq'] = df['life_sq'].fillna(-999)"
   ]
  },
  {
   "cell_type": "markdown",
   "id": "8ce3c974",
   "metadata": {},
   "source": [
    "### 2.3 Обнаружение выбросов"
   ]
  },
  {
   "cell_type": "code",
   "execution_count": null,
   "id": "dd9d1845",
   "metadata": {},
   "outputs": [],
   "source": [
    "df['life_sq'].hist(bins=100)"
   ]
  },
  {
   "cell_type": "code",
   "execution_count": null,
   "id": "31deac7a",
   "metadata": {},
   "outputs": [],
   "source": [
    "df.boxplot(column=['life_sq'])"
   ]
  },
  {
   "cell_type": "code",
   "execution_count": null,
   "id": "7d2f181c",
   "metadata": {
    "scrolled": true
   },
   "outputs": [],
   "source": [
    "df = df.loc[df['life_sq']<1000] #отрезаем выбросы"
   ]
  },
  {
   "cell_type": "code",
   "execution_count": null,
   "id": "227a8344",
   "metadata": {},
   "outputs": [],
   "source": [
    "df.boxplot(column=['life_sq'])"
   ]
  },
  {
   "cell_type": "markdown",
   "id": "0e4afaf5",
   "metadata": {},
   "source": [
    "Задание.\n",
    "1. Загрузить исходный датасет.\n",
    "2. Провести очистку и трансформацию исходного датасета исходя из следующих условий: удалить признаки, с более чем 25% пропусками в значениях. Оставшиеся пропуски заполнить медианными значениями.\n",
    "3. Построить матрицу корреляции Для признаков `timestamp`, `full_sq`, `life_sq`, `floor`, `build_year`, `num_room`, `price_doc`. Сделать вывод о корреляционной зависимости признаков.\n",
    "4. Провести анализ наличия выбросов для не менее трёх признаков из `timestamp`, `full_sq`, `life_sq`, `floor`, `build_year`, `num_room`. Удалить строки с выбросами у данных признаков.\n",
    "5. Стандартизировать числовые данные (`sklearn.preprocessing.StandartScaler()`) и преобразовать категориальные данные (`sklearn.preprocessing.LabelEncoder()`).\n",
    "6. Уменьшить размерность признаков на основе метода главных компонент (`sklearn.decomposition.PCA`).\n",
    "7. Построить две регрессионные модели на основе случайного леса (`sklearn.ensemble.RandomForestRegressor`) и метода опорных векторов (`sklearn.svm.SVR`). Путём поиска по сетке подобрать наилучшие параметры для них.\n",
    "8. Провести сравнение моделей на тестовой выборке `test.csv`."
   ]
  }
 ],
 "metadata": {
  "kernelspec": {
   "display_name": "Python 3 (ipykernel)",
   "language": "python",
   "name": "python3"
  },
  "language_info": {
   "codemirror_mode": {
    "name": "ipython",
    "version": 3
   },
   "file_extension": ".py",
   "mimetype": "text/x-python",
   "name": "python",
   "nbconvert_exporter": "python",
   "pygments_lexer": "ipython3",
   "version": "3.9.7"
  }
 },
 "nbformat": 4,
 "nbformat_minor": 5
}
