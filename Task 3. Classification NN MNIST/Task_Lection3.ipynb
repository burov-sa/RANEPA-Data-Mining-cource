{
 "cells": [
  {
   "cell_type": "markdown",
   "metadata": {},
   "source": [
    "## Практическая работа по лекции 3.\n",
    "11.03.2024 \n",
    "БИ-4-23-01\n",
    "Буров С.А.\n",
    "\n",
    "`При работе потребуется библиотека TensorFlow. Если не получается её установить, и возникают какие-либо проблемы с совместимостью библиотек или ошибки, задания выполняем в Google Colab`"
   ]
  },
  {
   "cell_type": "markdown",
   "metadata": {},
   "source": [
    "### Задача 1. Линейная регрессия"
   ]
  },
  {
   "cell_type": "markdown",
   "metadata": {},
   "source": [
    "Задача прогнозирования числовых рядов решается с помощью различных методов, в том числе и с помощью регрессионного анализа.  Для качественного прогноза в различных сферах (валютные курсы, стоимость ценных бумаг, число заболевших при пандемии и т.д.) используют различные варианты уравнений регрессии, используют преобразование Фурье для выявления сезонной составляющей и другие математические методы. При достаточном упорстве аналитика можно было подобрать комбинацию методов, неплохо предсказывающих поведение анализируемого параметра. Но использование в подобных моделях категориальных данных является затрудничтельным, а текстовых— это вообще отдельной сложная тема.\n",
    "\n",
    "Решение задачи регрессии с помощью нейронных сетей — иной подход. Рассмотрим его подробнее для начала на примере определения стоимости недвижимости из набора данных `Boston Housing`, включенном в библиотеку `Keras`. Это 13 столбцов различных параметров описывающих недвижимость и всего-то 400 записей с информацией, что является отноисительно небольшим набором данных.\n",
    "\n",
    "Описание датасета можно посмотреть по [здесь](https://neerc.ifmo.ru/wiki/index.php?title=%D0%98%D0%B7%D0%B2%D0%B5%D1%81%D1%82%D0%BD%D1%8B%D0%B5_%D0%BD%D0%B0%D0%B1%D0%BE%D1%80%D1%8B_%D0%B4%D0%B0%D0%BD%D0%BD%D1%8B%D1%85#Boston_Housing)\n",
    "\n",
    "    Переменные по порядку:\n",
    " `CRIM` Уровень преступности на душу населения по городам\n",
    " `ZN` доля жилых земель, зонированных для участков площадью более 25 000 кв. футов.\n",
    " `INDUS` доля площадей под неторговую деятельность на город\n",
    " Фиктивная переменная `CHAS` Charles River (= 1, если тракт ограничивает реку; 0 в противном случае)\n",
    " Концентрация оксидов азота `NOX` (частей на 10 миллионов)\n",
    " Среднее количество комнат в жилом помещении по РМ\n",
    " `ВОЗРАСТ` Доля квартир, занимаемых владельцами, построенных до 1940 г.\n",
    " `DIS` взвесил расстояния до пяти центров занятости Бостона\n",
    " Индекс доступности радиальных магистралей РАД\n",
    " `TAX` Ставка налога на имущество на полную стоимость за 10 000 долларов США\n",
    " Соотношение учеников и учителей `PTRATIO` по городам\n",
    " B 1000(Bk - 0,63)^2, где Bk — доля чернокожих по городам.\n",
    " `LSTAT` % более низкий статус населения\n",
    " `MEDV` Средняя стоимость домов, занимаемых владельцами, в 1000 долларов США\n"
   ]
  },
  {
   "cell_type": "code",
   "execution_count": null,
   "metadata": {},
   "outputs": [],
   "source": [
    "import pandas as pd\n",
    "import numpy as np\n",
    "from sklearn.datasets import load_boston\n",
    "from sklearn.model_selection import train_test_split\n",
    "from sklearn.linear_model import LinearRegression\n",
    "from sklearn.metrics import mean_squared_error"
   ]
  },
  {
   "cell_type": "code",
   "execution_count": null,
   "metadata": {},
   "outputs": [],
   "source": [
    "boston_dataset = load_boston()\n",
    "boston = pd.DataFrame(boston_dataset.data, columns=boston_dataset.feature_names)\n",
    "boston['MEDV'] = boston_dataset.target"
   ]
  },
  {
   "cell_type": "code",
   "execution_count": null,
   "metadata": {},
   "outputs": [],
   "source": [
    "X = pd.DataFrame(np.c_[boston['LSTAT'], boston['RM']], columns=['LSTAT', 'RM'])\n",
    "Y = boston['MEDV']\n",
    "X_train, X_test, Y_train, Y_test = train_test_split(X, Y, test_size=0.2, random_state=5)\n",
    "lin_model = LinearRegression()\n",
    "lin_model.fit(X_train, Y_train)"
   ]
  },
  {
   "cell_type": "code",
   "execution_count": null,
   "metadata": {},
   "outputs": [],
   "source": [
    "y_train_predict = lin_model.predict(X_train)\n",
    "rmse = (np.sqrt(mean_squared_error(Y_train, y_train_predict)))\n",
    "print(\"СКО на тренировочных данных\", rmse)\n",
    "y_test_predict = lin_model.predict(X_test)\n",
    "rmse = (np.sqrt(mean_squared_error(Y_test, y_test_predict)))\n",
    "print(\"СКО на учебных данных\", rmse)"
   ]
  },
  {
   "cell_type": "markdown",
   "metadata": {},
   "source": [
    "### Задача 2. Регрессия полносвязной нейронной сетью"
   ]
  },
  {
   "cell_type": "markdown",
   "metadata": {},
   "source": [
    "#### 2.1 Подготовка данных"
   ]
  },
  {
   "cell_type": "code",
   "execution_count": null,
   "metadata": {},
   "outputs": [],
   "source": [
    "from tensorflow.keras.datasets import boston_housing #другой источник датасета boston_housing\n",
    "from tensorflow.keras.models import Sequential #контейнеры, в которых хранятся последовательности\n",
    "from tensorflow.keras.layers import Dense #для создания слоёв нейронной сети\n",
    "import matplotlib.pyplot as plt\n",
    "import numpy as np\n",
    "%matplotlib inline \n",
    "\n",
    "from sklearn.datasets import load_boston"
   ]
  },
  {
   "cell_type": "code",
   "execution_count": null,
   "metadata": {},
   "outputs": [],
   "source": [
    "(x_train, y_train), (x_test, y_test) = boston_housing.load_data() #загрузка данных"
   ]
  },
  {
   "cell_type": "code",
   "execution_count": null,
   "metadata": {},
   "outputs": [],
   "source": [
    "#функция стандартизации данных\n",
    "def norm(x):\n",
    "  return (x - np.mean(x)) / np.std(x)\n",
    "x_train = norm(x_train); #стандартизация данных\n",
    "x_test = norm(x_test); #стандартизация данных"
   ]
  },
  {
   "cell_type": "markdown",
   "metadata": {},
   "source": [
    "На прошлой лекции мы рассматривали общие принципы построения нейронных сетей и говорили о функциях активации нейронов. В нашей сети в качестве функции активации будем использовать сигмоиду. Функция аткивации сигмоиды на выходе имеет значение в диапазоне от 0 до 1. В связи с эитм, необходимо привести значение y_train к диапазону от 0 до 1"
   ]
  },
  {
   "cell_type": "code",
   "execution_count": null,
   "metadata": {},
   "outputs": [],
   "source": [
    "# Приводим значения ответов в диапазон от 0 до 1 (нормализация данных)\n",
    "min_y = y_train.min()\n",
    "y_train = y_train - min_y #смещаем ответы к 0, вычитая минимальное значение\n",
    "max_y = y_train.max() #берем максимум от уже \"опущенных\" вниз на min_y данных \n",
    "y_train /= max_y #приводим к 1 обучающую выборку\n",
    "#нормируем ответы проверочной выборки, используя статистику min_y и max_y обучающей \n",
    "y_test = y_test - min_y\n",
    "y_test /= max_y"
   ]
  },
  {
   "cell_type": "markdown",
   "metadata": {},
   "source": [
    "#### 2.2 Построение нейронной сети"
   ]
  },
  {
   "cell_type": "markdown",
   "metadata": {},
   "source": [
    "Строим простую полносвязную нейронную сеть (feed forward neural network). Выходной слой с одним линейным нейроном — для задачи регрессии. Функция активации — RELU в промежуточном слое и sigmoid в выходном. Конфигурация сети взята из примера — https://www.tensorflow.org/tutorials/keras/basic_regression"
   ]
  },
  {
   "cell_type": "code",
   "execution_count": null,
   "metadata": {},
   "outputs": [],
   "source": [
    "x_train.shape"
   ]
  },
  {
   "cell_type": "code",
   "execution_count": null,
   "metadata": {},
   "outputs": [],
   "source": [
    "model = Sequential()\n",
    "model.add(Dense(13, activation='relu', input_shape=(x_train.shape[1],))) #13 - количество нейронов\n",
    "model.add(Dense(64, activation='relu'))\n",
    "model.add(Dense(1, activation='sigmoid')) # sigmoid, т.к. данные от 0 до 1"
   ]
  },
  {
   "cell_type": "code",
   "execution_count": null,
   "metadata": {},
   "outputs": [],
   "source": [
    "#Просмотр архитектуры построенной сети\n",
    "print(model.summary()) # архитектура нашей модели"
   ]
  },
  {
   "cell_type": "code",
   "execution_count": null,
   "metadata": {},
   "outputs": [],
   "source": [
    "# Т.к. задача регрессии, удобнее использовать mean square error(средне-квадратичная ошибка).\n",
    "# В качестве метрики берем mean absolute error (средний модуль ошибки)\n",
    "model.compile(optimizer='rmsprop', loss='mse', metrics=['mae'])"
   ]
  },
  {
   "cell_type": "code",
   "execution_count": null,
   "metadata": {},
   "outputs": [],
   "source": [
    "history = model.fit(x_train, \n",
    "                    y_train, \n",
    "                    epochs=20, \n",
    "                    validation_split=0.1, \n",
    "                    verbose=2)"
   ]
  },
  {
   "cell_type": "markdown",
   "metadata": {},
   "source": [
    "#### 2.3. Проверка работы нейронной сети"
   ]
  },
  {
   "cell_type": "code",
   "execution_count": null,
   "metadata": {},
   "outputs": [],
   "source": [
    "# Делаем прогноз. Возвращается копия предсказания в виде одномерного массива\n",
    "pred = model.predict(x_test).flatten() \n",
    "# Возвращаем к прежнему размеру, так нормализировали значение целевой функции в диапазон от 0 до 1\n",
    "pred = pred * max_y + min_y \n",
    "y_test = y_test * max_y + min_y"
   ]
  },
  {
   "cell_type": "code",
   "execution_count": null,
   "metadata": {},
   "outputs": [],
   "source": [
    "# Предсказание vs правильный ответ\n",
    "for i in range(len(pred)):\n",
    "  print(\"Предсказание: \", round(pred[i],2), \", а верный ответ: \", round(y_test[i],2), \", разница: \", round(pred[i] - y_test[i],2))"
   ]
  },
  {
   "cell_type": "markdown",
   "metadata": {},
   "source": [
    "Визуализация данных"
   ]
  },
  {
   "cell_type": "code",
   "execution_count": null,
   "metadata": {},
   "outputs": [],
   "source": [
    "# График срдней абсолютной ошибки (MAE)\n",
    "\n",
    "plt.plot(history.history['mae'], \n",
    "         label='Средняя абсолютная ошибка на обучающем наборе')\n",
    "plt.plot(history.history['val_mae'], \n",
    "         label='Средняя абсолютная ошибка на проверочном наборе')\n",
    "plt.xlabel('Эпоха обучения')\n",
    "plt.ylabel('Средняя абсолютная ошибка')\n",
    "plt.legend()\n",
    "plt.show()"
   ]
  },
  {
   "cell_type": "code",
   "execution_count": null,
   "metadata": {},
   "outputs": [],
   "source": [
    "# Диаграмма рассеяния предсказаний\n",
    "plt.scatter(y_test, pred) \n",
    "plt.xlabel('Правильные значение, $1K')\n",
    "plt.ylabel('Предсказания, $1K')\n",
    "plt.axis('equal')\n",
    "plt.xlim(plt.xlim())\n",
    "plt.ylim(plt.ylim())\n",
    "plt.plot([-100, 100], [-100, 100])\n",
    "plt.show()"
   ]
  },
  {
   "cell_type": "code",
   "execution_count": null,
   "metadata": {},
   "outputs": [],
   "source": [
    "#Частотное распределние ошибок (гистограмма ошибок)\n",
    "error = pred - y_test\n",
    "#Построение гистограммы\n",
    "plt.hist(abs(error), bins = 25)\n",
    "plt.xlabel(\"Значение ошибки, тыс.$\")\n",
    "plt.ylabel(\"Количество\")\n",
    "plt.show()"
   ]
  },
  {
   "cell_type": "markdown",
   "metadata": {},
   "source": [
    "### 2.4 Самостоятельное задание"
   ]
  },
  {
   "cell_type": "markdown",
   "metadata": {},
   "source": [
    "##### 2.4.1 Постройте нейронную сеть, визуилизируйте результаты её работы аналогично предыдущей сети, согласно следующим параметрам:\n",
    "    - параметры сети аналогичны предыдущему примеру\n",
    "    - при обучении использовать метод адптивного градиентного спуска adam"
   ]
  },
  {
   "cell_type": "code",
   "execution_count": null,
   "metadata": {},
   "outputs": [],
   "source": [
    "#ваш код здесь"
   ]
  },
  {
   "cell_type": "markdown",
   "metadata": {},
   "source": [
    "##### 2.4.2 Постройте нейронную сеть, визуилизируйте результаты её работы аналогично предыдущей сети, согласно следующим параметрам:\n",
    "    - функция активации неройнов - сигмоида"
   ]
  },
  {
   "cell_type": "code",
   "execution_count": null,
   "metadata": {},
   "outputs": [],
   "source": [
    "#ваш код здесь"
   ]
  },
  {
   "cell_type": "markdown",
   "metadata": {},
   "source": [
    "##### 4.3 Постройте нейронную сеть, визуализируйте результаты её работы аналогично предыдущей сети, согласно следующим параметрам:\n",
    "    - число нейронов в промежуточных слоях - 32\n",
    "    - количество слоёв нейронов на 1 больше"
   ]
  },
  {
   "cell_type": "code",
   "execution_count": null,
   "metadata": {},
   "outputs": [],
   "source": [
    "#ваш код здесь"
   ]
  },
  {
   "cell_type": "markdown",
   "metadata": {},
   "source": [
    "##### 2.4.3 Постройте нейронную сеть, визуилизируйте результаты её работы аналогично предыдущей сети, согласно вашей подобранной комбинации параметров, которая работалы бы лучше, чем предложенная преподавателем модель."
   ]
  },
  {
   "cell_type": "code",
   "execution_count": null,
   "metadata": {},
   "outputs": [],
   "source": [
    "#ваш код здесь"
   ]
  },
  {
   "cell_type": "markdown",
   "metadata": {},
   "source": [
    "Сравните результаты и напишите краткие выводы (какой из вариантов более точен)"
   ]
  },
  {
   "cell_type": "markdown",
   "metadata": {},
   "source": [
    "Выводы"
   ]
  },
  {
   "cell_type": "markdown",
   "metadata": {},
   "source": [
    "### Задача 3. Классификация полносвязной нейронной сетью"
   ]
  },
  {
   "cell_type": "markdown",
   "metadata": {},
   "source": [
    "Будем решать задачу классификации одежды на датасет `Fashion MNIST`. Все\n",
    "данные (изображения одежды) в `Fashion MNIST` подразделяются на 10 классов\n",
    "- 0 T-shirt/top (футболка/топ)\n",
    "- 1 Trouser (брюки)\n",
    "- 2 Pullover (пуловер)\n",
    "- 3 Dress (платье)\n",
    "- 4 Coat (пальто)\n",
    "- 5 Sandal (сандалии)\n",
    "- 6 Shirt (рубашка)\n",
    "- 7 Sneaker (кеды)\n",
    "- 8 Bag (сумка)\n",
    "- 9 Ankle boot (ботильоны)\n",
    "\n",
    "Датасет представляет собой набор изоражений размером 28x28\n",
    "\n",
    "![Fashion MNIST](./fashion.jpg)\n",
    "\n",
    "Необходимо построить полносвязную нейронную сеть для классфикации изображений\n",
    "\n",
    "![NeuroLink](./neurolink.jpg)\n",
    "\n",
    " Разобрать самостоятельно пример классификации с помощью нейросети данного датасета [здесь](https://habr.com/ru/post/454034/). Добавить код в блокнот\n"
   ]
  },
  {
   "cell_type": "code",
   "execution_count": null,
   "metadata": {},
   "outputs": [],
   "source": [
    "#ваш код здесь"
   ]
  }
 ],
 "metadata": {
  "kernelspec": {
   "display_name": "Python 3 (ipykernel)",
   "language": "python",
   "name": "python3"
  },
  "language_info": {
   "codemirror_mode": {
    "name": "ipython",
    "version": 3
   },
   "file_extension": ".py",
   "mimetype": "text/x-python",
   "name": "python",
   "nbconvert_exporter": "python",
   "pygments_lexer": "ipython3",
   "version": "3.9.13"
  }
 },
 "nbformat": 4,
 "nbformat_minor": 4
}
