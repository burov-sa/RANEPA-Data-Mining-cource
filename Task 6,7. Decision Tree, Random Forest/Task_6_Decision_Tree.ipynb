{
 "cells": [
  {
   "cell_type": "code",
   "execution_count": null,
   "id": "3130793e",
   "metadata": {},
   "outputs": [],
   "source": [
    "import pandas as pd    # библиотека для работы с таблицами \n",
    "import numpy as np     # библиотека для работы с матрицами \n",
    "import matplotlib #\n",
    "import matplotlib.pyplot as plt\n",
    "plt.style.use('ggplot')  # выбор стиля у графиков\n",
    "%matplotlib inline\n",
    "# остальные библиотека подгружаются далее, по мере необходимости"
   ]
  },
  {
   "cell_type": "code",
   "execution_count": null,
   "id": "93826493",
   "metadata": {},
   "outputs": [],
   "source": [
    "from sklearn import datasets #Загрузка встроенных наборов данных из библиотеки scikit-learn\n",
    "iris = datasets.load_iris() #загрузка датасета с ирисами Фишера"
   ]
  },
  {
   "cell_type": "code",
   "execution_count": null,
   "id": "ab594b99",
   "metadata": {},
   "outputs": [],
   "source": [
    "print(iris.feature_names) #вывод признаков (предикторов)"
   ]
  },
  {
   "cell_type": "code",
   "execution_count": null,
   "id": "7352712f",
   "metadata": {},
   "outputs": [],
   "source": [
    "print(iris.data) #вывод первых 10 строк датасета"
   ]
  },
  {
   "cell_type": "code",
   "execution_count": null,
   "id": "98fd81b8",
   "metadata": {},
   "outputs": [],
   "source": [
    "print(iris.target) #вывод целевой функции"
   ]
  },
  {
   "cell_type": "code",
   "execution_count": null,
   "id": "c35b0586",
   "metadata": {},
   "outputs": [],
   "source": [
    "print(iris.target_names) #вывод названия классов"
   ]
  },
  {
   "cell_type": "code",
   "execution_count": null,
   "id": "73148804",
   "metadata": {},
   "outputs": [],
   "source": [
    "iris_frame = pd.DataFrame(iris.data) #делаем из датасета датафрейм пандас"
   ]
  },
  {
   "cell_type": "code",
   "execution_count": null,
   "id": "31c40905",
   "metadata": {},
   "outputs": [],
   "source": [
    "iris_frame.columns = iris.feature_names #именую столбцы\n",
    "iris_frame['target'] = iris.target"
   ]
  },
  {
   "cell_type": "code",
   "execution_count": null,
   "id": "55768bbb",
   "metadata": {},
   "outputs": [],
   "source": [
    "iris_frame.loc[(iris_frame['target'] == 0), 'name'] = iris.target_names[0]\n",
    "iris_frame.loc[(iris_frame['target'] == 1), 'name'] = iris.target_names[1]\n",
    "iris_frame.loc[(iris_frame['target'] == 2), 'name'] = iris.target_names[2]"
   ]
  },
  {
   "cell_type": "code",
   "execution_count": null,
   "id": "0fd9d089",
   "metadata": {},
   "outputs": [],
   "source": [
    "iris_frame"
   ]
  },
  {
   "cell_type": "code",
   "execution_count": null,
   "id": "41ee710d",
   "metadata": {},
   "outputs": [],
   "source": [
    "iris_frame.shape"
   ]
  },
  {
   "cell_type": "code",
   "execution_count": null,
   "id": "094ec505",
   "metadata": {},
   "outputs": [],
   "source": [
    "from sklearn.model_selection import train_test_split #библиотека для разбиения выборки на обучающую и тестовую части\n",
    "X_train, X_test, y_train, y_test = train_test_split(iris_frame[['sepal length (cm)', 'sepal width (cm)', 'petal length (cm)', 'petal width (cm)']],\n",
    "                                                   iris_frame['name'], test_size = 0.9, random_state = 0) #разбили датасет на обучающую и тестовую выборки в соотношении 90% к 10%"
   ]
  },
  {
   "cell_type": "code",
   "execution_count": null,
   "id": "02e8cf4c",
   "metadata": {},
   "outputs": [],
   "source": [
    "from sklearn.tree import DecisionTreeClassifier #библиотека для построения дерева решений\n",
    "from sklearn.tree import plot_tree #библиотека для отображения построенного дерева решений"
   ]
  },
  {
   "cell_type": "code",
   "execution_count": null,
   "id": "7139a02f",
   "metadata": {},
   "outputs": [],
   "source": [
    "model = DecisionTreeClassifier(criterion = \"gini\") #параметр, задающий критерий разбиения\n",
    "model.fit(X_train, y_train)"
   ]
  },
  {
   "cell_type": "code",
   "execution_count": null,
   "id": "d923ff8f",
   "metadata": {},
   "outputs": [],
   "source": [
    "#отображение дерева решений\n",
    "fig, axes = plt.subplots(nrows = 1,ncols = 1,figsize = (4,4), dpi=300) #change figsize, dpi for the best view\n",
    "plot_tree(model,\n",
    "           feature_names = iris_frame.columns, \n",
    "           class_names = iris.target_names,\n",
    "           filled = True)\n",
    "fig.savefig('tree.png')"
   ]
  },
  {
   "cell_type": "code",
   "execution_count": null,
   "id": "b1e20fb6",
   "metadata": {},
   "outputs": [],
   "source": [
    "from sklearn.metrics import confusion_matrix #библиотека для отображения матрицы ошибок\n",
    "from sklearn.metrics import classification_report #библиотека для отображения показателей качества классификатора"
   ]
  },
  {
   "cell_type": "code",
   "execution_count": null,
   "id": "0d838ab8",
   "metadata": {},
   "outputs": [],
   "source": [
    "y_pred = model.predict(X_test) #подаю на вход модели тестовую выборку\n",
    "conf_matrix = confusion_matrix(y_true=y_test, y_pred=y_pred)"
   ]
  },
  {
   "cell_type": "code",
   "execution_count": null,
   "id": "6dcfff78",
   "metadata": {},
   "outputs": [],
   "source": [
    "#отображение матрицы ошибок с помощью библиотека MatPlotLib\n",
    "fig, ax = plt.subplots(figsize=(5, 5))\n",
    "ax.matshow(conf_matrix, cmap=plt.cm.Oranges, alpha=0.3)\n",
    "for i in range(conf_matrix.shape[0]):\n",
    "    for j in range(conf_matrix.shape[1]):\n",
    "        ax.text(x=j, y=i,s=conf_matrix[i, j], va='center', ha='center', size='xx-large')\n",
    "plt.xlabel('Predictions', fontsize=18)\n",
    "plt.ylabel('Actuals', fontsize=18)\n",
    "plt.title('Confusion Matrix', fontsize=18)\n",
    "plt.show()"
   ]
  },
  {
   "cell_type": "code",
   "execution_count": null,
   "id": "c3646747",
   "metadata": {},
   "outputs": [],
   "source": [
    "print(classification_report(y_test, y_pred))"
   ]
  },
  {
   "cell_type": "markdown",
   "id": "72db820c",
   "metadata": {},
   "source": [
    "Выводы. \n",
    "1. Наиболее точно распознаётся класс - classification_report\n",
    "2. Аккуратность классификации - 0.94. В 94% случаев на тестовой выборке классификатор сработал правильно.\n",
    "3. Наиболее плохо распознаётся класс - versicolor."
   ]
  },
  {
   "cell_type": "markdown",
   "id": "cbe0bfda",
   "metadata": {},
   "source": [
    "### Домашнее задание \n",
    "    1. Выполнить аналогичные действия по построению дерева решений для классификации вашего датасет.\n",
    "    2. Датасет необходимо найти самостоятельно. Скачать датасет, например, можно с `Kaggle.com` (для скачивания необходимо зарегестрироваться). В отчёте приложить ссылку на источник вашего датасета.\n",
    "    "
   ]
  },
  {
   "cell_type": "code",
   "execution_count": null,
   "id": "9af10275",
   "metadata": {},
   "outputs": [],
   "source": []
  }
 ],
 "metadata": {
  "kernelspec": {
   "display_name": "Python 3 (ipykernel)",
   "language": "python",
   "name": "python3"
  },
  "language_info": {
   "codemirror_mode": {
    "name": "ipython",
    "version": 3
   },
   "file_extension": ".py",
   "mimetype": "text/x-python",
   "name": "python",
   "nbconvert_exporter": "python",
   "pygments_lexer": "ipython3",
   "version": "3.9.7"
  }
 },
 "nbformat": 4,
 "nbformat_minor": 5
}
