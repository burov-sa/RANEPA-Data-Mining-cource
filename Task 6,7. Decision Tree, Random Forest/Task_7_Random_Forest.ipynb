{
 "cells": [
  {
   "cell_type": "markdown",
   "id": "add4dd5b",
   "metadata": {},
   "source": [
    "### 1.  Загрузка и подготовка данных"
   ]
  },
  {
   "cell_type": "code",
   "execution_count": null,
   "id": "730eb226",
   "metadata": {},
   "outputs": [],
   "source": [
    "# Загрузка необходимых библиотек\n",
    "import pandas as pd    # библиотека для работы с таблицами \n",
    "import numpy as np     # библиотека для работы с матрицами \n",
    "# библиотека для работы с графиками \n",
    "import matplotlib\n",
    "import matplotlib.pyplot as plt\n",
    "import seaborn as sns\n",
    "plt.style.use('ggplot')  # выбор стиля у графиков\n",
    "%matplotlib inline\n",
    "# остальные библиотека подгружаются далее, по мере необходимости\n"
   ]
  },
  {
   "cell_type": "code",
   "execution_count": null,
   "id": "38489bf0",
   "metadata": {},
   "outputs": [],
   "source": [
    "df = pd.read_excel(\"student.xlsx\")"
   ]
  },
  {
   "cell_type": "code",
   "execution_count": null,
   "id": "46910b25",
   "metadata": {},
   "outputs": [],
   "source": [
    "df.head()"
   ]
  },
  {
   "cell_type": "code",
   "execution_count": null,
   "id": "31d8c3f5",
   "metadata": {},
   "outputs": [],
   "source": [
    "df.columns"
   ]
  },
  {
   "cell_type": "code",
   "execution_count": null,
   "id": "14d5b57f",
   "metadata": {},
   "outputs": [],
   "source": [
    "X = df.drop(columns = ['G1', 'G2', 'G3'], axis = 1) #входные параметры, по которым будем классифицировать"
   ]
  },
  {
   "cell_type": "code",
   "execution_count": null,
   "id": "8be422f2",
   "metadata": {},
   "outputs": [],
   "source": [
    "X"
   ]
  },
  {
   "cell_type": "code",
   "execution_count": null,
   "id": "6dc7af71",
   "metadata": {},
   "outputs": [],
   "source": [
    "y = df['G3'] #целевой столбце"
   ]
  },
  {
   "cell_type": "code",
   "execution_count": null,
   "id": "b45dd469",
   "metadata": {},
   "outputs": [],
   "source": [
    "#преобразование категорийных данных\n",
    "from sklearn import preprocessing\n",
    "from tqdm import tqdm\n",
    "for f in tqdm(X.columns):\n",
    "    if X[f].dtype=='object': \n",
    "        lbl = preprocessing.LabelEncoder()\n",
    "        lbl.fit(list(X[f].values) + list(X[f].values))\n",
    "        X[f] = lbl.transform(list(X[f].values))"
   ]
  },
  {
   "cell_type": "code",
   "execution_count": null,
   "id": "4e5fc087",
   "metadata": {},
   "outputs": [],
   "source": [
    "target_names = []\n",
    "for target in y.unique():\n",
    "    target_names.append(str(target))"
   ]
  },
  {
   "cell_type": "markdown",
   "id": "2d236f81",
   "metadata": {},
   "source": [
    "### 2. Построение случайного леса "
   ]
  },
  {
   "cell_type": "markdown",
   "id": "ddacf695",
   "metadata": {},
   "source": [
    "#### Разделение выборки на тестовую и обучающую и построение леса"
   ]
  },
  {
   "cell_type": "code",
   "execution_count": null,
   "id": "a39c1d93",
   "metadata": {},
   "outputs": [],
   "source": [
    "#разделим выборку на тестовую и обучающую\n",
    "from sklearn.model_selection import train_test_split\n",
    "from sklearn.metrics import confusion_matrix\n",
    "from sklearn.metrics import classification_report\n",
    "from sklearn.ensemble import RandomForestClassifier\n",
    "X_train, X_test, y_train, y_test = train_test_split(X, y, train_size=0.6) #параметр train_size задаёт соотношение обучающей и тестовой выборок\n",
    "model = RandomForestClassifier(n_estimators = 100) #параметр критерия задаёт критерий разбиения\n",
    "model.fit(X_train, y_train)"
   ]
  },
  {
   "cell_type": "markdown",
   "id": "e11bd483",
   "metadata": {},
   "source": [
    "#### Отображение результатов классификациии \n",
    "#### Матрица ошибок"
   ]
  },
  {
   "cell_type": "code",
   "execution_count": null,
   "id": "6a10076d",
   "metadata": {},
   "outputs": [],
   "source": [
    "y_pred = model.predict(X_test)\n",
    "conf_matrix = confusion_matrix(y_true=y_test, y_pred=y_pred)\n",
    "# Print the confusion matrix using Matplotlib\n",
    "#\n",
    "fig, ax = plt.subplots(figsize=(5, 5))\n",
    "ax.matshow(conf_matrix, cmap=plt.cm.Oranges, alpha=0.3)\n",
    "for i in range(conf_matrix.shape[0]):\n",
    "    for j in range(conf_matrix.shape[1]):\n",
    "        ax.text(x=j, y=i,s=conf_matrix[i, j], va='center', ha='center', size='xx-large')\n",
    "plt.xlabel('Predictions', fontsize=18)\n",
    "plt.ylabel('Actuals', fontsize=18)\n",
    "plt.title('Confusion Matrix', fontsize=18)\n",
    "plt.show()\n"
   ]
  },
  {
   "cell_type": "markdown",
   "id": "56b7f390",
   "metadata": {},
   "source": [
    "#### Критерии precision_score, recall_score, f1_score, accuracy_score"
   ]
  },
  {
   "cell_type": "code",
   "execution_count": null,
   "id": "8ca702f7",
   "metadata": {},
   "outputs": [],
   "source": [
    "print(classification_report(y_test, y_pred))"
   ]
  },
  {
   "cell_type": "markdown",
   "id": "c8c665ca",
   "metadata": {},
   "source": [
    "### 4. Построение случайного леса для вторго набора данных"
   ]
  },
  {
   "cell_type": "code",
   "execution_count": null,
   "id": "47216a54",
   "metadata": {},
   "outputs": [],
   "source": [
    "from sklearn import datasets\n",
    "# Загружаем набор данных Ирисы:\n",
    "iris = datasets.load_iris()\n",
    "# Смотрим на названия переменных\n",
    "print(iris.feature_names)\n",
    "# Смотрим на данные, выводим 10 первых строк: \n",
    "print(iris.data[:10])\n",
    "# Смотрим на целевую переменную:\n",
    "print(iris.target_names)\n",
    "print(iris.target)"
   ]
  },
  {
   "cell_type": "code",
   "execution_count": null,
   "id": "c96122ed",
   "metadata": {},
   "outputs": [],
   "source": [
    "iris_frame = pd.DataFrame(iris.data)\n",
    "iris_frame.columns = iris.feature_names\n",
    "# Добавляем столбец с целевой переменной: \n",
    "iris_frame['target'] = iris.target\n",
    "# Для наглядности добавляем столбец с сортами: \n",
    "iris_frame['name'] = iris_frame.target.apply(lambda x : iris.target_names[x])\n",
    "# Смотрим, что получилось:\n",
    "iris_frame"
   ]
  },
  {
   "cell_type": "code",
   "execution_count": null,
   "id": "ef54d897",
   "metadata": {},
   "outputs": [],
   "source": [
    "X_train, X_test, y_train, y_test = train_test_split(iris_frame[['sepal length (cm)','sepal width (cm)','petal length (cm)','petal width (cm)']], \n",
    "                                                    iris_frame['target'], test_size = 0.9, random_state = 0)\n",
    "from sklearn.ensemble import RandomForestClassifier\n",
    "import sklearn.metrics as skm\n",
    "model = RandomForestClassifier(n_estimators = 100) #параметр критерия задаёт критерий разбиения\n",
    "model.fit(X_train, y_train)"
   ]
  },
  {
   "cell_type": "code",
   "execution_count": null,
   "id": "83b1a3b0",
   "metadata": {
    "scrolled": true
   },
   "outputs": [],
   "source": [
    "y_pred = model.predict(X_test)\n",
    "conf_matrix = confusion_matrix(y_true=y_test, y_pred=y_pred)\n",
    "# Print the confusion matrix using Matplotlib\n",
    "fig, ax = plt.subplots(figsize=(5, 5))\n",
    "ax.matshow(conf_matrix, cmap=plt.cm.Oranges, alpha=0.3)\n",
    "for i in range(conf_matrix.shape[0]):\n",
    "    for j in range(conf_matrix.shape[1]):\n",
    "        ax.text(x=j, y=i,s=conf_matrix[i, j], va='center', ha='center', size='xx-large')\n",
    "plt.xlabel('Predictions', fontsize=18)\n",
    "plt.ylabel('Actuals', fontsize=18)\n",
    "plt.title('Confusion Matrix', fontsize=18)\n",
    "plt.show()\n",
    "print(classification_report(y_test, y_pred))"
   ]
  },
  {
   "cell_type": "markdown",
   "id": "d6d11d2a",
   "metadata": {},
   "source": [
    "### Домашнее задание \n",
    "    1. Выполнить аналогичные действия по построению случайного леса для классификации вашего датасет.\n",
    "    2. Датасет необходимо найти самостоятельно. Скачать датасет, например, можно с `Kaggle.com` (для скачивания необходимо зарегестрироваться). В отчёте приложить ссылку на источник вашего датасета."
   ]
  }
 ],
 "metadata": {
  "kernelspec": {
   "display_name": "Python 3 (ipykernel)",
   "language": "python",
   "name": "python3"
  },
  "language_info": {
   "codemirror_mode": {
    "name": "ipython",
    "version": 3
   },
   "file_extension": ".py",
   "mimetype": "text/x-python",
   "name": "python",
   "nbconvert_exporter": "python",
   "pygments_lexer": "ipython3",
   "version": "3.9.7"
  }
 },
 "nbformat": 4,
 "nbformat_minor": 5
}
